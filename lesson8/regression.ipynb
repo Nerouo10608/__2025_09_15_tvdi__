{
 "cells": [
  {
   "cell_type": "code",
   "execution_count": 1,
   "id": "19657e79",
   "metadata": {},
   "outputs": [],
   "source": [
    "from sklearn.datasets import fetch_california_housing\n",
    "from sklearn.linear_model import LinearRegression\n",
    "from sklearn.model_selection import train_test_split"
   ]
  },
  {
   "cell_type": "code",
   "execution_count": 9,
   "id": "1eaaa330",
   "metadata": {},
   "outputs": [
    {
     "name": "stdout",
     "output_type": "stream",
     "text": [
      "(20640, 8)\n",
      "2\n"
     ]
    }
   ],
   "source": [
    "# 載入加州房價資料集\n",
    "housing = fetch_california_housing()\n",
    "print(housing['data'].shape)\n",
    "print(housing['data'].ndim)\n",
    "#housing['target']"
   ]
  },
  {
   "cell_type": "code",
   "execution_count": null,
   "id": "42a2e75c",
   "metadata": {},
   "outputs": [],
   "source": [
    "(20640,)"
   ]
  }
 ],
 "metadata": {
  "kernelspec": {
   "display_name": "__2025_09_15_tvdi__",
   "language": "python",
   "name": "python3"
  },
  "language_info": {
   "codemirror_mode": {
    "name": "ipython",
    "version": 3
   },
   "file_extension": ".py",
   "mimetype": "text/x-python",
   "name": "python",
   "nbconvert_exporter": "python",
   "pygments_lexer": "ipython3",
   "version": "3.10.18"
  }
 },
 "nbformat": 4,
 "nbformat_minor": 5
}
